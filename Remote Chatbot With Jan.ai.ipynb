{
 "cells": [
  {
   "cell_type": "markdown",
   "id": "f1b02376-2aa8-4275-8f44-a9fccb37cd1d",
   "metadata": {},
   "source": [
    "# Remote Accessible Chatbot With Jan and Gradio"
   ]
  },
  {
   "cell_type": "markdown",
   "id": "18222a1f-999f-4292-b9f7-7faaab4a99bf",
   "metadata": {},
   "source": [
    "### Install required packages if needed"
   ]
  },
  {
   "cell_type": "code",
   "execution_count": null,
   "id": "a286e0fb-3c8b-4c59-b2d4-4edf90e4f103",
   "metadata": {
    "scrolled": true
   },
   "outputs": [],
   "source": [
    "%pip install Gradio\n",
    "%pip install OpenAI"
   ]
  },
  {
   "cell_type": "markdown",
   "id": "603f19a2-cf20-4b89-8cf2-6ef05de3c2ba",
   "metadata": {},
   "source": [
    "Import modules"
   ]
  },
  {
   "cell_type": "markdown",
   "id": "bda4acc0-0205-4bcb-98ab-360c7aaa49d2",
   "metadata": {},
   "source": [
    "## Setup"
   ]
  },
  {
   "cell_type": "code",
   "execution_count": null,
   "id": "13662e56-4fe1-461a-aa11-0b227b5ab2c1",
   "metadata": {},
   "outputs": [],
   "source": [
    "from openai import OpenAI\n",
    "import gradio as gr"
   ]
  },
  {
   "cell_type": "markdown",
   "id": "e8612cee-7233-4080-86d1-11d68656d4b5",
   "metadata": {},
   "source": [
    "Load up local model and server through Jan\n",
    "Import and enter client setting from jan desktop, here it's http://localhost:1337/v1\n"
   ]
  },
  {
   "cell_type": "markdown",
   "id": "1a05d5f6-bf18-45dd-a9b7-47a55f0b119a",
   "metadata": {},
   "source": [
    "Enter API Key and Client URL"
   ]
  },
  {
   "cell_type": "code",
   "execution_count": null,
   "id": "1e61de92-725b-4308-8e2e-7e888e468545",
   "metadata": {},
   "outputs": [],
   "source": [
    "api_key = \"lm-studio\" # Replace with your key if local leave blank\n",
    "client = OpenAI(base_url=\"http://localhost:1337/v1\", api_key=\"lm-studio\")"
   ]
  },
  {
   "cell_type": "markdown",
   "id": "02c6e6b7-f4f7-4eeb-b971-20362a5a9dc8",
   "metadata": {},
   "source": [
    "Find model id in the API reference local web page made by clicking \"API Reference\" on the Jan.ai server tab. \n",
    "\n",
    "This can be found at http://localhost:1337/static/index.html, in the \"get models\" json list.\n",
    "eg. \"id\": \"trinity-v1.2-7b\" \n",
    "\n",
    "Enter model name within chatbox function below (\"model='enter id here',...."
   ]
  },
  {
   "cell_type": "markdown",
   "id": "59123c10-61bb-4c4e-b9e4-d81c901dc02b",
   "metadata": {},
   "source": [
    "## Chatbot Function Setings"
   ]
  },
  {
   "cell_type": "code",
   "execution_count": null,
   "id": "769e7aa9-d69d-48f3-8c58-cef6b3631913",
   "metadata": {},
   "outputs": [],
   "source": [
    "def chatbot(message, history):\n",
    "    history_openai_format = []\n",
    "    for human, assistant in history:\n",
    "        history_openai_format.append({\"role\": \"user\", \"content\": human })\n",
    "        history_openai_format.append({\"role\": \"assistant\", \"content\":assistant})\n",
    "    history_openai_format.append({\"role\": \"user\", \"content\": message})\n",
    "  \n",
    "    response = client.chat.completions.create(model='trinity-v1.2-7b',\n",
    "    messages= history_openai_format,\n",
    "    temperature=1.0,\n",
    "    stream=True)\n",
    "\n",
    "    partial_message = \"\"\n",
    "    for chunk in response:\n",
    "        if chunk.choices[0].delta.content is not None:\n",
    "              partial_message = partial_message + chunk.choices[0].delta.content\n",
    "              yield partial_message"
   ]
  },
  {
   "cell_type": "markdown",
   "id": "01e235fb-b5f1-4438-849e-f052f5102fe9",
   "metadata": {},
   "source": [
    "## Run Gradio Chatbot"
   ]
  },
  {
   "cell_type": "code",
   "execution_count": null,
   "id": "0301aba2-dd0f-43ea-9702-c67ae8e60c46",
   "metadata": {},
   "outputs": [],
   "source": [
    "gr.ChatInterface(chatbot).launch(share=True)"
   ]
  },
  {
   "cell_type": "code",
   "execution_count": null,
   "id": "be639973-08fc-4ee0-8129-249ab98929f4",
   "metadata": {},
   "outputs": [],
   "source": []
  }
 ],
 "metadata": {
  "kernelspec": {
   "display_name": "Python 3 (ipykernel)",
   "language": "python",
   "name": "python3"
  },
  "language_info": {
   "codemirror_mode": {
    "name": "ipython",
    "version": 3
   },
   "file_extension": ".py",
   "mimetype": "text/x-python",
   "name": "python",
   "nbconvert_exporter": "python",
   "pygments_lexer": "ipython3",
   "version": "3.12.3"
  }
 },
 "nbformat": 4,
 "nbformat_minor": 5
}
